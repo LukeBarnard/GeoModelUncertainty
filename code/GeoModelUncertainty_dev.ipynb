{
 "cells": [
  {
   "cell_type": "code",
   "execution_count": 1,
   "metadata": {},
   "outputs": [],
   "source": [
    "from astropy.time import Time, TimeDelta\n",
    "import astropy.units as u\n",
    "import matplotlib as mpl\n",
    "import matplotlib.pyplot as plt\n",
    "import moviepy.editor as mpy\n",
    "from moviepy.video.io.bindings import mplfig_to_npimage\n",
    "import h5py\n",
    "import numpy as np\n",
    "import os\n",
    "import glob\n",
    "import pandas as pd\n",
    "import scipy.stats as st\n",
    "import sunpy.coordinates.sun as sn\n",
    "from scipy.ndimage import gaussian_filter1d\n",
    "from scipy.optimize import curve_fit\n",
    "from palettable.colorbrewer.qualitative import Dark2_5, Set1_3\n",
    "\n",
    "import huxt as H\n",
    "import huxt_analysis as HA\n",
    "import huxt_inputs as HIN\n",
    "import GeoModelUncertainty as gmu"
   ]
  },
  {
   "cell_type": "code",
   "execution_count": 2,
   "metadata": {},
   "outputs": [],
   "source": [
    "project_dirs = gmu.get_project_dirs()\n",
    "data_avg = pd.read_csv(project_dirs['ELEvoHI_average'], delim_whitespace=True)\n",
    "data_fst = pd.read_csv(project_dirs['ELEvoHI_fast'], delim_whitespace=True)\n",
    "data_ext = pd.read_csv(project_dirs['ELEvoHI_extreme'], delim_whitespace=True)"
   ]
  },
  {
   "cell_type": "code",
   "execution_count": 11,
   "metadata": {},
   "outputs": [
    {
     "name": "stdout",
     "output_type": "stream",
     "text": [
      "-7.1313820341954015 -8.380283584548106 -8.11607768700361\n",
      "-8.234358214285715 -8.325141742424243 -5.783791069767442\n",
      "98 66 43\n"
     ]
    }
   ],
   "source": [
    "print(data_avg['me_t'].mean(), data_fst['me_t'].mean(), data_ext['me_t'].mean())\n",
    "\n",
    "print(data_avg.loc[data_avg['sep']==300, 'me_t'].mean(), data_fst.loc[data_fst['sep']==300, 'me_t'].mean(), data_ext.loc[data_ext['sep']==300,'me_t'].mean())\n",
    "\n",
    "print(sum(data_avg['sep']==300),sum(data_fst['sep']==300),sum(data_ext['sep']==300))\n"
   ]
  },
  {
   "cell_type": "code",
   "execution_count": 18,
   "metadata": {},
   "outputs": [
    {
     "data": {
      "text/plain": [
       "-7.71256038647343"
      ]
     },
     "execution_count": 18,
     "metadata": {},
     "output_type": "execute_result"
    }
   ],
   "source": [
    "np.average([-8.2, -8.3, -5.7], weights=[98, 66, 43])"
   ]
  },
  {
   "cell_type": "code",
   "execution_count": 16,
   "metadata": {},
   "outputs": [
    {
     "name": "stdout",
     "output_type": "stream",
     "text": [
      "[270 280 290 300 310 320 330 340 350] [ 97 100  96  98  99  98  96  95  91]\n",
      "[270 280 290 300 310 320 330 340 350] [62 65 62 66 76 78 90 94 93]\n",
      "[270 280 290 300 310 320 330 340 350] [28 37 34 43 66 81 92 90 83]\n"
     ]
    }
   ],
   "source": [
    "for data in [data_avg, data_fst, data_ext]:\n",
    "    u, c = np.unique(data['sep'], return_counts=True)\n",
    "    print(u, c)"
   ]
  },
  {
   "cell_type": "code",
   "execution_count": 19,
   "metadata": {},
   "outputs": [
    {
     "data": {
      "image/png": "[encoded data removed]",
      "text/plain": [
       "<Figure size 1080x360 with 3 Axes>"
      ]
     },
     "metadata": {
      "needs_background": "light"
     },
     "output_type": "display_data"
    }
   ],
   "source": [
    "data_path = \"C:/Users/yq904481/research/repos/GeoModelUncertainty/data/out_data/CME_scenarios_simulation_results.hdf5\"\n",
    "sim_data = h5py.File(data_path, 'r')\n",
    "\n",
    "project_dirs = gmu.get_project_dirs()\n",
    "fig, ax = plt.subplots(1,3, figsize=(15,5))\n",
    "for i, scenario in enumerate(['average', 'fast', 'extreme']):\n",
    "    \n",
    "    elevo_key = 'ELEvoHI_' + scenario\n",
    "    elevo = pd.read_csv(project_dirs[elevo_key], delim_whitespace=True)\n",
    "    \n",
    "    elevo['v_boundary_std'] = 0\n",
    "    \n",
    "    for j, row in elevo.iterrows():\n",
    "        \n",
    "        sim_path = \"/\".join([scenario, row['run'], 'v_boundary_std'])\n",
    "        elevo.loc[j, 'v_boundary_std'] = sim_data[sim_path][()]\n",
    "        \n",
    "    # Now plot error vs v_boundary var for L5.\n",
    "    id_l5 = elevo['sep'] == 300\n",
    "    \n",
    "    ax[i].plot(elevo.loc[id_l5, 'v_boundary_std'], elevo.loc[id_l5, 'me_t'],'k.')\n",
    "    \n",
    "    fig.subplots_adjust(left=0.1, bottom=0.1, right=0.99, top=0.99, wspace=0.1)\n",
    "    \n",
    "#for a in ax:\n",
    "#    a.set_xlim(0, 170)\n",
    "#    a.set_ylim(0, 30)\n",
    "sim_data.close()        "
   ]
  },
  {
   "cell_type": "code",
   "execution_count": 21,
   "metadata": {},
   "outputs": [
    {
     "name": "stdout",
     "output_type": "stream",
     "text": [
      "(10, 20)\n",
      "(9, 20)\n",
      "(10, 19)\n",
      "(10, 19)\n"
     ]
    }
   ],
   "source": [
    "x = np.ones((10,20))\n",
    "print(x.shape)\n",
    "print(np.diff(x, axis=0).shape)\n",
    "print(np.diff(x, axis=1).shape)\n",
    "print(np.diff(x, axis=-1).shape)"
   ]
  }
 ],
 "metadata": {
  "kernelspec": {
   "display_name": "Python 3",
   "language": "python",
   "name": "python3"
  },
  "language_info": {
   "codemirror_mode": {
    "name": "ipython",
    "version": 3
   },
   "file_extension": ".py",
   "mimetype": "text/x-python",
   "name": "python",
   "nbconvert_exporter": "python",
   "pygments_lexer": "ipython3",
   "version": "3.7.10"
  }
 },
 "nbformat": 4,
 "nbformat_minor": 4
}
